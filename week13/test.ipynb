{
 "cells": [
  {
   "cell_type": "code",
   "execution_count": 2,
   "id": "3880bc66",
   "metadata": {},
   "outputs": [],
   "source": [
    "import numpy as np"
   ]
  },
  {
   "cell_type": "code",
   "execution_count": 3,
   "id": "1fa18e2f",
   "metadata": {},
   "outputs": [
    {
     "data": {
      "text/plain": [
       "array([[7, 7, 7],\n",
       "       [7, 7, 7]])"
      ]
     },
     "execution_count": 3,
     "metadata": {},
     "output_type": "execute_result"
    }
   ],
   "source": [
    "arr1=np.full((2,3),7)\n",
    "arr1"
   ]
  },
  {
   "cell_type": "code",
   "execution_count": 4,
   "id": "cfd22b12",
   "metadata": {},
   "outputs": [
    {
     "name": "stdout",
     "output_type": "stream",
     "text": [
      "[ 3  5  8 10  9]\n",
      "[ 1  4  9 16 25]\n"
     ]
    }
   ],
   "source": [
    "arr1=np.array([1,2,3,4,5])\n",
    "arr2=np.array([2,3,5,6,4])\n",
    "\n",
    "print(arr1+arr2)\n",
    "print(arr1**2)"
   ]
  },
  {
   "cell_type": "code",
   "execution_count": 5,
   "id": "74d3fe9d",
   "metadata": {},
   "outputs": [
    {
     "name": "stdout",
     "output_type": "stream",
     "text": [
      "3.0\n"
     ]
    }
   ],
   "source": [
    "print(np.median(arr1))"
   ]
  },
  {
   "cell_type": "code",
   "execution_count": 6,
   "id": "1c3784b3",
   "metadata": {},
   "outputs": [],
   "source": [
    "angles=np.array([0,30,45,60,180])\n",
    "radians=np.deg2rad(angles)\n"
   ]
  },
  {
   "cell_type": "code",
   "execution_count": 7,
   "id": "086c17d5",
   "metadata": {},
   "outputs": [
    {
     "name": "stdout",
     "output_type": "stream",
     "text": [
      "[0.00000000e+00 5.00000000e-01 7.07106781e-01 8.66025404e-01\n",
      " 1.22464680e-16]\n",
      "[ 1.          0.8660254   0.70710678  0.5        -1.        ]\n",
      "[ 0.00000000e+00  5.77350269e-01  1.00000000e+00  1.73205081e+00\n",
      " -1.22464680e-16]\n"
     ]
    }
   ],
   "source": [
    "print(np.sin(radians))\n",
    "print(np.cos(radians))\n",
    "print(np.tan(radians))"
   ]
  },
  {
   "cell_type": "code",
   "execution_count": 8,
   "id": "90842529",
   "metadata": {},
   "outputs": [],
   "source": [
    "A = np.array([[1, 2],\n",
    "              [3, 4]])\n",
    "\n",
    "B = np.array([[5, 6],\n",
    "              [7, 8]])"
   ]
  },
  {
   "cell_type": "code",
   "execution_count": 9,
   "id": "d999322b",
   "metadata": {},
   "outputs": [
    {
     "name": "stdout",
     "output_type": "stream",
     "text": [
      "[[19 22]\n",
      " [43 50]]\n"
     ]
    },
    {
     "data": {
      "text/plain": [
       "array([[19, 22],\n",
       "       [43, 50]])"
      ]
     },
     "execution_count": 9,
     "metadata": {},
     "output_type": "execute_result"
    }
   ],
   "source": [
    "print(np.dot(A,B))\n",
    "A@B"
   ]
  },
  {
   "cell_type": "code",
   "execution_count": 10,
   "id": "5d8ec057",
   "metadata": {},
   "outputs": [
    {
     "data": {
      "text/plain": [
       "array([[1, 3],\n",
       "       [2, 4]])"
      ]
     },
     "execution_count": 10,
     "metadata": {},
     "output_type": "execute_result"
    }
   ],
   "source": [
    "A.T"
   ]
  },
  {
   "cell_type": "code",
   "execution_count": 11,
   "id": "e6d1fa31",
   "metadata": {},
   "outputs": [
    {
     "name": "stdout",
     "output_type": "stream",
     "text": [
      "-2.0000000000000004\n"
     ]
    }
   ],
   "source": [
    "print(np.linalg.det(A))"
   ]
  },
  {
   "cell_type": "code",
   "execution_count": 12,
   "id": "5f457407",
   "metadata": {},
   "outputs": [
    {
     "name": "stdout",
     "output_type": "stream",
     "text": [
      "[[-2.   1. ]\n",
      " [ 1.5 -0.5]]\n"
     ]
    }
   ],
   "source": [
    "print(np.linalg.inv(A))"
   ]
  },
  {
   "cell_type": "code",
   "execution_count": 13,
   "id": "69625862",
   "metadata": {},
   "outputs": [],
   "source": [
    "A = np.array([[3, 1],\n",
    "              [1, 2]])\n",
    "\n",
    "b = np.array([9, 8])"
   ]
  },
  {
   "cell_type": "code",
   "execution_count": 14,
   "id": "1d95f9ea",
   "metadata": {},
   "outputs": [
    {
     "data": {
      "text/plain": [
       "array([2., 3.])"
      ]
     },
     "execution_count": 14,
     "metadata": {},
     "output_type": "execute_result"
    }
   ],
   "source": [
    "x=np.linalg.solve(A,b)\n",
    "x"
   ]
  },
  {
   "cell_type": "code",
   "execution_count": 15,
   "id": "2d2424bb",
   "metadata": {},
   "outputs": [
    {
     "name": "stdout",
     "output_type": "stream",
     "text": [
      "Bins: [ 4.  22.4 40.8 59.2 77.6 96. ]\n",
      "Frequency: [3 6 2 4 5]\n"
     ]
    }
   ],
   "source": [
    "data = np.random.randint(0, 100, size=20)\n",
    "hist, bins = np.histogram(data, bins=5)\n",
    "print(\"Bins:\", bins)\n",
    "print(\"Frequency:\", hist)"
   ]
  },
  {
   "cell_type": "code",
   "execution_count": 16,
   "id": "2259e901",
   "metadata": {},
   "outputs": [
    {
     "name": "stdout",
     "output_type": "stream",
     "text": [
      "[38 26 40 26 50 68 87 44 78  4 13 86 34 86 77 22 67 28 96 71]\n"
     ]
    }
   ],
   "source": [
    "print(data)"
   ]
  },
  {
   "cell_type": "code",
   "execution_count": 17,
   "id": "e6893f98",
   "metadata": {},
   "outputs": [
    {
     "name": "stdout",
     "output_type": "stream",
     "text": [
      "[9 4 6 6 8]\n"
     ]
    }
   ],
   "source": [
    "np.random.seed(72)  # Set seed for reproducibility\n",
    "print(np.random.randint(1, 10, size=5))"
   ]
  },
  {
   "cell_type": "code",
   "execution_count": 18,
   "id": "a55d7c45",
   "metadata": {},
   "outputs": [
    {
     "name": "stdout",
     "output_type": "stream",
     "text": [
      "banana\n",
      "['banana' 'banana' 'apple' 'apple' 'apple']\n"
     ]
    }
   ],
   "source": [
    "arr = ['apple', 'banana', 'cherry']\n",
    "print(np.random.choice(arr))  # Randomly pick one element\n",
    "print(np.random.choice(arr, size=5, replace=True))  # Random sample with replacement"
   ]
  },
  {
   "cell_type": "code",
   "execution_count": 19,
   "id": "de594fea",
   "metadata": {},
   "outputs": [
    {
     "name": "stdout",
     "output_type": "stream",
     "text": [
      "True\n",
      "True\n"
     ]
    }
   ],
   "source": [
    "arr = np.array([1, 2, 3, 4, 5])\n",
    "\n",
    "print(np.any(arr > 4))  # True (at least one element > 4)\n",
    "print(np.all(arr > 0))  # True (all elements > 0)"
   ]
  },
  {
   "cell_type": "code",
   "execution_count": 20,
   "id": "132806e5",
   "metadata": {},
   "outputs": [
    {
     "name": "stdout",
     "output_type": "stream",
     "text": [
      "['Low' 'Low' 'High' 'High' 'High']\n"
     ]
    }
   ],
   "source": [
    "arr = np.array([10, 20, 30, 40, 50])\n",
    "new_arr = np.where(arr > 25, \"High\", \"Low\")\n",
    "print(new_arr)\n",
    "# Output: ['Low' 'Low' 'High' 'High' 'High']"
   ]
  },
  {
   "cell_type": "code",
   "execution_count": 21,
   "id": "9fa43375",
   "metadata": {},
   "outputs": [
    {
     "name": "stdout",
     "output_type": "stream",
     "text": [
      "[30 40 50]\n"
     ]
    }
   ],
   "source": [
    "arr = np.array([10, 20, 30, 40, 50])\n",
    "filtered = arr[arr > 25]  # Keep values greater than 25\n",
    "print(filtered)\n",
    "# Output: [30 40 50]"
   ]
  },
  {
   "cell_type": "code",
   "execution_count": 22,
   "id": "d641c665",
   "metadata": {},
   "outputs": [
    {
     "name": "stdout",
     "output_type": "stream",
     "text": [
      "[False False  True  True  True]\n"
     ]
    }
   ],
   "source": [
    "arr = np.array([1, 2, 3, 4, 5])\n",
    "bool_arr = arr > 2  # Condition check\n",
    "print(bool_arr)\n",
    "# Output: [False False  True  True  True]"
   ]
  },
  {
   "cell_type": "code",
   "execution_count": 23,
   "id": "f49df997",
   "metadata": {},
   "outputs": [],
   "source": [
    "import pandas as pd\n",
    "data={\n",
    "    'Name':['Althaf','shahin'],\n",
    "    'Age':[23,25]\n",
    "}\n",
    "df=pd.DataFrame(data)"
   ]
  },
  {
   "cell_type": "markdown",
   "id": "bb0f8663",
   "metadata": {},
   "source": [
    "Algorithm learning"
   ]
  },
  {
   "cell_type": "code",
   "execution_count": 24,
   "id": "2617a92e",
   "metadata": {},
   "outputs": [
    {
     "name": "stdout",
     "output_type": "stream",
     "text": [
      "MAS:  0.14637694965308523\n",
      "MES:  0.037113794407976845\n",
      "RMSE:  0.19264940801356448\n",
      "R2: 0.9468960016420045\n"
     ]
    }
   ],
   "source": [
    "#Linear regression\n",
    "from sklearn.datasets import load_iris\n",
    "from sklearn.model_selection import train_test_split\n",
    "from sklearn.linear_model import LinearRegression\n",
    "from sklearn.metrics import  mean_absolute_error,mean_squared_error,r2_score\n",
    "import numpy as np\n",
    "\n",
    "data=load_iris()\n",
    "X=data.data\n",
    "y=data.target\n",
    "\n",
    "X_train,X_test,y_train,y_test=train_test_split(X,y,test_size=0.2,random_state=42)\n",
    "\n",
    "model=LinearRegression()\n",
    "model.fit(X_train,y_train)\n",
    "\n",
    "y_pred=model.predict(X_test)\n",
    "\n",
    "print('MAS: ',mean_absolute_error(y_test,y_pred))\n",
    "print('MES: ',mean_squared_error(y_test,y_pred))\n",
    "print('RMSE: ',np.sqrt(mean_squared_error(y_test,y_pred)))\n",
    "print('R2:',r2_score(y_test,y_pred))"
   ]
  },
  {
   "cell_type": "code",
   "execution_count": 25,
   "id": "cc11e3d4",
   "metadata": {},
   "outputs": [
    {
     "name": "stdout",
     "output_type": "stream",
     "text": [
      "Accuracy: 1.0\n",
      "precision: 1.0\n",
      "recall: 1.0\n",
      "F1-score: 1.0\n"
     ]
    }
   ],
   "source": [
    "# logistic regression\n",
    "from sklearn.datasets import load_iris\n",
    "from sklearn.linear_model import LogisticRegression\n",
    "from sklearn.model_selection import train_test_split\n",
    "from sklearn.metrics import accuracy_score,precision_score,f1_score,recall_score\n",
    "\n",
    "data=load_iris()\n",
    "X=data.data\n",
    "y=data.target\n",
    "\n",
    "# Convert to binary classification: class 0 vs others\n",
    "y_binary=(y==0).astype(int)\n",
    "\n",
    "X_train,X_test,y_train,y_test=train_test_split(X,y_binary,test_size=0.2,random_state=42)\n",
    "\n",
    "model=LogisticRegression()\n",
    "model.fit(X_train,y_train)\n",
    "\n",
    "y_pred=model.predict(X_test)\n",
    "\n",
    "print('Accuracy:',accuracy_score(y_test,y_pred))\n",
    "print('precision:',precision_score(y_test,y_pred))\n",
    "print('recall:',recall_score(y_test,y_pred))\n",
    "print('F1-score:',f1_score(y_test,y_pred))\n"
   ]
  },
  {
   "cell_type": "markdown",
   "id": "3bbb04aa",
   "metadata": {},
   "source": [
    "# Numpy problems"
   ]
  },
  {
   "cell_type": "markdown",
   "id": "13247b32",
   "metadata": {},
   "source": [
    "### NumPy Problems\n",
    "\n",
    "1. **Array Creation and Manipulation**\n",
    "    - Create a 3D array of shape (2, 3, 4) filled with random integers between 1 and 100.\n",
    "    - Reshape the array to (4, 6) and print the result.\n",
    "    - Extract the first two rows and last two columns from the reshaped array.\n",
    "    1. **Mathematical Operations**\n",
    "    - Given two arrays `A = np.array([[1, 2], [3, 4]])` and `B = np.array([[5, 6], [7, 8]])`, compute the matrix multiplication of `A` and `B`.\n",
    "    - Compute the element-wise product of `A` and `B`.\n",
    "    - Calculate the mean, standard deviation, and variance of the resulting matrix from the matrix multiplication.\n",
    "2. **Statistical Functions**\n",
    "    - Create a 1D array of 100 random numbers from a normal distribution with mean 0 and standard deviation 1.\n",
    "    - Compute the mean, median, standard deviation, and variance of the array.\n",
    "    - Find the minimum and maximum values in the array."
   ]
  },
  {
   "cell_type": "code",
   "execution_count": 26,
   "id": "c726ca7f",
   "metadata": {},
   "outputs": [
    {
     "name": "stdout",
     "output_type": "stream",
     "text": [
      "original array:  [[[73 29 54 66]\n",
      "  [27 65 72 97]\n",
      "  [35 62 53 32]]\n",
      "\n",
      " [[ 3 68 16 98]\n",
      "  [96 55 18 95]\n",
      "  [73 45 52 22]]]\n",
      "reshaped array:  [[73 29 54 66 27 65]\n",
      " [72 97 35 62 53 32]\n",
      " [ 3 68 16 98 96 55]\n",
      " [18 95 73 45 52 22]]\n",
      "First two rows and last two columns:  [[27 65]\n",
      " [53 32]]\n"
     ]
    }
   ],
   "source": [
    "import numpy as np\n",
    "\n",
    "array3D=np.random.randint(1,101,size=(2,3,4))\n",
    "print(\"original array: \",array3D)\n",
    "\n",
    "array_reshaped=array3D.reshape(4,6)\n",
    "print('reshaped array: ', array_reshaped)\n",
    "\n",
    "extracted=array_reshaped[:2,-2:]\n",
    "print(\"First two rows and last two columns: \",extracted)"
   ]
  },
  {
   "cell_type": "code",
   "execution_count": 34,
   "id": "65075300",
   "metadata": {},
   "outputs": [
    {
     "name": "stdout",
     "output_type": "stream",
     "text": [
      "[[19 22]\n",
      " [43 50]]\n",
      "[[ 5 12]\n",
      " [21 32]]\n",
      "33.5\n",
      "13.275918047351754\n",
      "176.25\n"
     ]
    }
   ],
   "source": [
    "A=np.array([[1,2],[3,4]])\n",
    "B=np.array([[5,6],[7,8]])\n",
    "\n",
    "C=np.dot(A,B)\n",
    "print(C) # matrix multiplication\n",
    "\n",
    "print(A*B) # element wise\n",
    "\n",
    "print(np.mean(C))\n",
    "print(np.std(C))\n",
    "print(np.var(C))\n"
   ]
  },
  {
   "cell_type": "code",
   "execution_count": 41,
   "id": "ea3c69e1",
   "metadata": {},
   "outputs": [
    {
     "name": "stdout",
     "output_type": "stream",
     "text": [
      "[ 0.49671415 -0.1382643   0.64768854  1.52302986 -0.23415337 -0.23413696\n",
      "  1.57921282  0.76743473 -0.46947439  0.54256004 -0.46341769 -0.46572975\n",
      "  0.24196227 -1.91328024 -1.72491783 -0.56228753 -1.01283112  0.31424733\n",
      " -0.90802408 -1.4123037   1.46564877 -0.2257763   0.0675282  -1.42474819\n",
      " -0.54438272  0.11092259 -1.15099358  0.37569802 -0.60063869 -0.29169375\n",
      " -0.60170661  1.85227818 -0.01349722 -1.05771093  0.82254491 -1.22084365\n",
      "  0.2088636  -1.95967012 -1.32818605  0.19686124  0.73846658  0.17136828\n",
      " -0.11564828 -0.3011037  -1.47852199 -0.71984421 -0.46063877  1.05712223\n",
      "  0.34361829 -1.76304016  0.32408397 -0.38508228 -0.676922    0.61167629\n",
      "  1.03099952  0.93128012 -0.83921752 -0.30921238  0.33126343  0.97554513\n",
      " -0.47917424 -0.18565898 -1.10633497 -1.19620662  0.81252582  1.35624003\n",
      " -0.07201012  1.0035329   0.36163603 -0.64511975  0.36139561  1.53803657\n",
      " -0.03582604  1.56464366 -2.6197451   0.8219025   0.08704707 -0.29900735\n",
      "  0.09176078 -1.98756891 -0.21967189  0.35711257  1.47789404 -0.51827022\n",
      " -0.8084936  -0.50175704  0.91540212  0.32875111 -0.5297602   0.51326743\n",
      "  0.09707755  0.96864499 -0.70205309 -0.32766215 -0.39210815 -1.46351495\n",
      "  0.29612028  0.26105527  0.00511346 -0.23458713]\n",
      "-0.10384651739409384\n",
      "-0.1269562917797126\n",
      "0.9036161766446296\n",
      "0.8165221946938584\n",
      "1.8522781845089378\n",
      "-2.6197451040897444\n"
     ]
    }
   ],
   "source": [
    "import matplotlib.pyplot as plt\n",
    "np.random.seed(42) # to make random number fixed\n",
    "array_1D=np.random.randn(100)\n",
    "print(array_1D)\n",
    "\n",
    "print(np.mean(array_1D))\n",
    "print(np.median(array_1D))\n",
    "print(np.std(array_1D))\n",
    "print(np.var(array_1D))\n",
    "\n",
    "print(np.max(array_1D))\n",
    "print(np.min(array_1D))\n"
   ]
  },
  {
   "cell_type": "markdown",
   "id": "e8739f6f",
   "metadata": {},
   "source": [
    "### pandas Problems\n",
    "\n",
    "1. **Data Loading and Exploration**\n",
    "    - Load the Iris dataset from Seaborn and display the first 5 rows.\n",
    "    - Display the summary statistics of the dataset using `describe()`.\n",
    "    - Check for missing values in the dataset.\n",
    "2. **Data Cleaning and Manipulation**\n",
    "    - Load the Titanic dataset from Seaborn.\n",
    "    - Handle missing values in the `age` column by filling them with the median age.\n",
    "    - Drop rows where the `embarked` column has missing values.\n",
    "    - Convert the `sex` column to numerical values (0 for male, 1 for female).\n",
    "3. **Data Filtering and Grouping**\n",
    "    - Filter the Titanic dataset to include only rows where `age` is greater than 30.\n",
    "    - Group the dataset by `sex` and calculate the mean age for each group.\n",
    "    - Merge the Titanic dataset with another dataset containing passenger names and additional information (create a sample dataset for this purpose)."
   ]
  },
  {
   "cell_type": "code",
   "execution_count": 47,
   "id": "98a5f744",
   "metadata": {},
   "outputs": [
    {
     "name": "stdout",
     "output_type": "stream",
     "text": [
      "   sepal_length  sepal_width  petal_length  petal_width species\n",
      "0           5.1          3.5           1.4          0.2  setosa\n",
      "1           4.9          3.0           1.4          0.2  setosa\n",
      "2           4.7          3.2           1.3          0.2  setosa\n",
      "3           4.6          3.1           1.5          0.2  setosa\n",
      "4           5.0          3.6           1.4          0.2  setosa\n",
      "       sepal_length  sepal_width  petal_length  petal_width\n",
      "count    150.000000   150.000000    150.000000   150.000000\n",
      "mean       5.843333     3.057333      3.758000     1.199333\n",
      "std        0.828066     0.435866      1.765298     0.762238\n",
      "min        4.300000     2.000000      1.000000     0.100000\n",
      "25%        5.100000     2.800000      1.600000     0.300000\n",
      "50%        5.800000     3.000000      4.350000     1.300000\n",
      "75%        6.400000     3.300000      5.100000     1.800000\n",
      "max        7.900000     4.400000      6.900000     2.500000\n",
      "sepal_length    0\n",
      "sepal_width     0\n",
      "petal_length    0\n",
      "petal_width     0\n",
      "species         0\n",
      "dtype: int64\n"
     ]
    }
   ],
   "source": [
    "import pandas as pd\n",
    "import seaborn as sns\n",
    "df=sns.load_dataset('iris')\n",
    "print(df.head())\n",
    "print(df.describe())\n",
    "print(df.isnull().sum())"
   ]
  },
  {
   "cell_type": "code",
   "execution_count": null,
   "id": "6b458ba8",
   "metadata": {},
   "outputs": [
    {
     "name": "stdout",
     "output_type": "stream",
     "text": [
      "   survived  pclass     sex   age  sibsp  parch     fare embarked  class  \\\n",
      "0         0       3    male  22.0      1      0   7.2500        S  Third   \n",
      "1         1       1  female  38.0      1      0  71.2833        C  First   \n",
      "2         1       3  female  26.0      0      0   7.9250        S  Third   \n",
      "3         1       1  female  35.0      1      0  53.1000        S  First   \n",
      "4         0       3    male  35.0      0      0   8.0500        S  Third   \n",
      "\n",
      "     who  adult_male deck  embark_town alive  alone  \n",
      "0    man        True  NaN  Southampton    no  False  \n",
      "1  woman       False    C    Cherbourg   yes  False  \n",
      "2  woman       False  NaN  Southampton   yes   True  \n",
      "3  woman       False    C  Southampton   yes  False  \n",
      "4    man        True  NaN  Southampton    no   True  \n",
      "\n",
      "Titanic dataset after cleaning:\n",
      "   survived  pclass  sex   age  sibsp  parch     fare embarked  class    who  \\\n",
      "0         0       3    0  22.0      1      0   7.2500        S  Third    man   \n",
      "1         1       1    1  38.0      1      0  71.2833        C  First  woman   \n",
      "2         1       3    1  26.0      0      0   7.9250        S  Third  woman   \n",
      "3         1       1    1  35.0      1      0  53.1000        S  First  woman   \n",
      "4         0       3    0  35.0      0      0   8.0500        S  Third    man   \n",
      "\n",
      "   adult_male deck  embark_town alive  alone  \n",
      "0        True  NaN  Southampton    no  False  \n",
      "1       False    C    Cherbourg   yes  False  \n",
      "2       False  NaN  Southampton   yes   True  \n",
      "3       False    C  Southampton   yes  False  \n",
      "4        True  NaN  Southampton    no   True  \n",
      "\n",
      "Merged Dataset:\n",
      "   survived  pclass  sex   age  sibsp  parch     fare embarked   class    who  \\\n",
      "0         0       3    0  22.0      1      0   7.2500        S   Third    man   \n",
      "1         1       1    1  38.0      1      0  71.2833        C   First  woman   \n",
      "2         1       3    1  26.0      0      0   7.9250        S   Third  woman   \n",
      "3         1       1    1  35.0      1      0  53.1000        S   First  woman   \n",
      "4         0       3    0  35.0      0      0   8.0500        S   Third    man   \n",
      "5         0       3    0  28.0      0      0   8.4583        Q   Third    man   \n",
      "6         0       1    0  54.0      0      0  51.8625        S   First    man   \n",
      "7         0       3    0   2.0      3      1  21.0750        S   Third  child   \n",
      "8         1       3    1  27.0      0      2  11.1333        S   Third  woman   \n",
      "9         1       2    1  14.0      1      0  30.0708        C  Second  child   \n",
      "\n",
      "   adult_male deck  embark_town alive  alone  passenger_id passenger_name  \\\n",
      "0        True  NaN  Southampton    no  False             1       John Doe   \n",
      "1       False    C    Cherbourg   yes  False             2     Jane Smith   \n",
      "2       False  NaN  Southampton   yes   True             3    Alice Brown   \n",
      "3       False    C  Southampton   yes  False             4      Bob White   \n",
      "4        True  NaN  Southampton    no   True             5  Charlie Black   \n",
      "5        True  NaN   Queenstown    no   True             6            NaN   \n",
      "6        True    E  Southampton    no   True             7            NaN   \n",
      "7       False  NaN  Southampton    no  False             8            NaN   \n",
      "8       False  NaN  Southampton   yes  False             9            NaN   \n",
      "9       False  NaN    Cherbourg   yes  False            10            NaN   \n",
      "\n",
      "     country  \n",
      "0        USA  \n",
      "1         UK  \n",
      "2     Canada  \n",
      "3  Australia  \n",
      "4    Ireland  \n",
      "5        NaN  \n",
      "6        NaN  \n",
      "7        NaN  \n",
      "8        NaN  \n",
      "9        NaN  \n"
     ]
    }
   ],
   "source": [
    "Titanic=sns.load_dataset('titanic')\n",
    "print(Titanic.head())\n",
    "\n",
    "meadian_age=Titanic['age'].median()\n",
    "Titanic['age']=Titanic['age'].fillna(meadian_age)\n",
    "\n",
    "Titanic=Titanic.dropna(subset=['embarked'])\n",
    "\n",
    "Titanic['sex']=Titanic['sex'].map({'male':0,'female':1})\n",
    "\n",
    "print(\"\\nTitanic dataset after cleaning:\")\n",
    "print(Titanic.head())\n",
    "\n",
    "\n",
    "\n",
    "\n"
   ]
  },
  {
   "cell_type": "code",
   "execution_count": 59,
   "id": "40099d8c",
   "metadata": {},
   "outputs": [
    {
     "name": "stdout",
     "output_type": "stream",
     "text": [
      "    survived  pclass  sex   age  sibsp  parch     fare embarked  class    who  \\\n",
      "1          1       1    1  38.0      1      0  71.2833        C  First  woman   \n",
      "3          1       1    1  35.0      1      0  53.1000        S  First  woman   \n",
      "4          0       3    0  35.0      0      0   8.0500        S  Third    man   \n",
      "6          0       1    0  54.0      0      0  51.8625        S  First    man   \n",
      "11         1       1    1  58.0      0      0  26.5500        S  First  woman   \n",
      "\n",
      "    adult_male deck  embark_town alive  alone  passenger_id  \n",
      "1        False    C    Cherbourg   yes  False             2  \n",
      "3        False    C  Southampton   yes  False             4  \n",
      "4         True  NaN  Southampton    no   True             5  \n",
      "6         True    E  Southampton    no   True             7  \n",
      "11       False    C  Southampton   yes   True            12  \n",
      "sex\n",
      "0    30.140676\n",
      "1    27.788462\n",
      "Name: age, dtype: float64\n",
      "\n",
      "Merged Dataset:\n",
      "   survived  pclass  sex   age  sibsp  parch     fare embarked   class    who  \\\n",
      "0         0       3    0  22.0      1      0   7.2500        S   Third    man   \n",
      "1         1       1    1  38.0      1      0  71.2833        C   First  woman   \n",
      "2         1       3    1  26.0      0      0   7.9250        S   Third  woman   \n",
      "3         1       1    1  35.0      1      0  53.1000        S   First  woman   \n",
      "4         0       3    0  35.0      0      0   8.0500        S   Third    man   \n",
      "5         0       3    0  28.0      0      0   8.4583        Q   Third    man   \n",
      "6         0       1    0  54.0      0      0  51.8625        S   First    man   \n",
      "7         0       3    0   2.0      3      1  21.0750        S   Third  child   \n",
      "8         1       3    1  27.0      0      2  11.1333        S   Third  woman   \n",
      "9         1       2    1  14.0      1      0  30.0708        C  Second  child   \n",
      "\n",
      "   adult_male deck  embark_town alive  alone  passenger_id passenger_name  \\\n",
      "0        True  NaN  Southampton    no  False             1       John Doe   \n",
      "1       False    C    Cherbourg   yes  False             2     Jane Smith   \n",
      "2       False  NaN  Southampton   yes   True             3    Alice Brown   \n",
      "3       False    C  Southampton   yes  False             4      Bob White   \n",
      "4        True  NaN  Southampton    no   True             5  Charlie Black   \n",
      "5        True  NaN   Queenstown    no   True             6            NaN   \n",
      "6        True    E  Southampton    no   True             7            NaN   \n",
      "7       False  NaN  Southampton    no  False             8            NaN   \n",
      "8       False  NaN  Southampton   yes  False             9            NaN   \n",
      "9       False  NaN    Cherbourg   yes  False            10            NaN   \n",
      "\n",
      "     country  \n",
      "0        USA  \n",
      "1         UK  \n",
      "2     Canada  \n",
      "3  Australia  \n",
      "4    Ireland  \n",
      "5        NaN  \n",
      "6        NaN  \n",
      "7        NaN  \n",
      "8        NaN  \n",
      "9        NaN  \n"
     ]
    }
   ],
   "source": [
    "Titanic_30=Titanic[Titanic['age']>30]\n",
    "print(Titanic_30.head())\n",
    "\n",
    "calculate_mean_age=Titanic.groupby('sex')['age'].mean()\n",
    "print(calculate_mean_age)\n",
    "\n",
    "additional_info = pd.DataFrame({\n",
    "    'passenger_id': [1, 2, 3, 4, 5],\n",
    "    'passenger_name': ['John Doe', 'Jane Smith', 'Alice Brown', 'Bob White', 'Charlie Black'],\n",
    "    'country': ['USA', 'UK', 'Canada', 'Australia', 'Ireland']\n",
    "})\n",
    "\n",
    "Titanic['passenger_id'] = range(1, len(Titanic) + 1) # cresting a fake passenger id\n",
    "\n",
    "merged_df=pd.merge(Titanic,additional_info,on='passenger_id',how='left')\n",
    "\n",
    "print(\"\\nMerged Dataset:\")\n",
    "print(merged_df.head(10))"
   ]
  },
  {
   "cell_type": "code",
   "execution_count": null,
   "id": "976ddb0d",
   "metadata": {},
   "outputs": [],
   "source": []
  }
 ],
 "metadata": {
  "kernelspec": {
   "display_name": "exassaro",
   "language": "python",
   "name": "python3"
  },
  "language_info": {
   "codemirror_mode": {
    "name": "ipython",
    "version": 3
   },
   "file_extension": ".py",
   "mimetype": "text/x-python",
   "name": "python",
   "nbconvert_exporter": "python",
   "pygments_lexer": "ipython3",
   "version": "3.12.9"
  }
 },
 "nbformat": 4,
 "nbformat_minor": 5
}
