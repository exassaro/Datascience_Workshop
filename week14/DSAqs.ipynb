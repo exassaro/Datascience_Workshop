{
 "cells": [
  {
   "cell_type": "markdown",
   "id": "4308f5cd",
   "metadata": {},
   "source": [
    "## Convert to Greater BST"
   ]
  },
  {
   "cell_type": "code",
   "execution_count": 19,
   "id": "b344a8a9",
   "metadata": {},
   "outputs": [
    {
     "name": "stdout",
     "output_type": "stream",
     "text": [
      "0 4 10 12 20 34 67 90 100 \n",
      "\n",
      "337 337 333 323 311 291 257 190 100 "
     ]
    }
   ],
   "source": [
    "class Node:\n",
    "    def __init__(self,data,left=None,right=None):\n",
    "        self.data=data\n",
    "        self.left=left\n",
    "        self.right=right\n",
    "\n",
    "class BST:\n",
    "    def __init__(self):\n",
    "        self.root=None\n",
    "    \n",
    "    def insert(self,val):\n",
    "        if self.root is None:\n",
    "            self.root=Node(val)\n",
    "            return\n",
    "        self.insert_rec(self.root,val)\n",
    "        \n",
    "    def insert_rec(self,node,val):\n",
    "        if val<node.data:\n",
    "            if node.left is None:\n",
    "                node.left=Node(val)\n",
    "            else:\n",
    "                self.insert_rec(node.left,val)\n",
    "        elif val>node.data:\n",
    "            if node.right is None:\n",
    "                node.right=Node(val)\n",
    "            else:\n",
    "                self.insert_rec(node.right,val)\n",
    "                \n",
    "    def convert_to_gt(self):\n",
    "        self.sum=0\n",
    "        self.convert_rec(self.root)\n",
    "        \n",
    "    def convert_rec(self,node):\n",
    "        if node is None:\n",
    "            return\n",
    "        self.convert_rec(node.right)\n",
    "        self.sum+=node.data\n",
    "        node.data=self.sum\n",
    "        self.convert_rec(node.left)\n",
    "        \n",
    "        \n",
    "        \n",
    "    def inorder(self,node):\n",
    "        if node is None:\n",
    "            return\n",
    "        self.inorder(node.left)\n",
    "        print(node.data,end=\" \")\n",
    "        self.inorder(node.right)\n",
    "    \n",
    "    # def inorder(self,node,lst=None):\n",
    "    #     if lst is None:\n",
    "    #         lst=[]\n",
    "    #     if node is None:\n",
    "    #         return lst\n",
    "    #     self.inorder(node.left,lst)\n",
    "    #     lst.append(node.data)\n",
    "    #     self.inorder(node.right,lst)\n",
    "    #     return lst\n",
    "        \n",
    "tree=BST()\n",
    "val=[12,67,4,90,34]\n",
    "for x in val:\n",
    "    tree.insert(x)\n",
    "tree.insert(10)\n",
    "tree.insert(20)\n",
    "tree.insert(0)\n",
    "tree.insert(100)\n",
    "tree.inorder(tree.root)\n",
    "tree.convert_to_gt()\n",
    "print(\"\\n\")\n",
    "tree.inorder(tree.root)\n",
    "# print(tree.inorder(tree.root)) \n",
    "# if usingg list\n",
    "        "
   ]
  },
  {
   "cell_type": "code",
   "execution_count": null,
   "id": "e2eff6e8",
   "metadata": {},
   "outputs": [],
   "source": []
  }
 ],
 "metadata": {
  "kernelspec": {
   "display_name": "exassaro",
   "language": "python",
   "name": "python3"
  },
  "language_info": {
   "codemirror_mode": {
    "name": "ipython",
    "version": 3
   },
   "file_extension": ".py",
   "mimetype": "text/x-python",
   "name": "python",
   "nbconvert_exporter": "python",
   "pygments_lexer": "ipython3",
   "version": "3.12.9"
  }
 },
 "nbformat": 4,
 "nbformat_minor": 5
}
