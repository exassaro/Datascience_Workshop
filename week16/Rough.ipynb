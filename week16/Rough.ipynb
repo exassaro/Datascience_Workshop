{
 "cells": [
  {
   "cell_type": "code",
   "execution_count": null,
   "id": "4ecabd26",
   "metadata": {},
   "outputs": [],
   "source": [
    "import pandas as pd\n",
    "import seaborn as sns\n"
   ]
  },
  {
   "cell_type": "code",
   "execution_count": null,
   "id": "d59cbb09",
   "metadata": {},
   "outputs": [],
   "source": [
    "df=sns.load_dataset('titanic')\n",
    "df.head()\n",
    "df.isnull().sum()"
   ]
  },
  {
   "cell_type": "code",
   "execution_count": null,
   "id": "bd51782d",
   "metadata": {},
   "outputs": [],
   "source": [
    "df['embark_town'].fillna(method='ffill',inplace=True)"
   ]
  },
  {
   "cell_type": "code",
   "execution_count": null,
   "id": "f4482255",
   "metadata": {},
   "outputs": [],
   "source": [
    "from sklearn.impute import KNNImputer\n",
    "imputer=KNNImputer(n_neighbors=5)\n",
    "df[['age']]=imputer.fit_transform(df[['age']])\n"
   ]
  },
  {
   "cell_type": "code",
   "execution_count": null,
   "id": "40f22236",
   "metadata": {},
   "outputs": [],
   "source": [
    "from sklearn.ensemble import RandomForestRegressor\n",
    "model=RandomForestRegressor()\n",
    "df_missing=df[df['age'].isnull()]\n",
    "df_not_missing=df[df['age'].notnull()]\n",
    "model.fit(df_not_missing.drop('age',axis=1),df_not_missing['age'])\n",
    "df_missing['age']=model.predict(df_missing.drop('age',axis=1))\n",
    "\n",
    "\n",
    "#this is incorrect because we are passing categorical vaiables too to the model\n",
    "#so we have to basically select datatypes and include to number"
   ]
  },
  {
   "cell_type": "markdown",
   "id": "b5815187",
   "metadata": {},
   "source": [
    "✅ Use the correct target ('age')\n",
    "\n",
    "✅ Ensure only numeric data is passed to the model\n",
    "\n",
    "✅ Use .copy() to avoid SettingWithCopyWarning\n",
    "\n",
    "⚠️ Encode categorical variables before training"
   ]
  },
  {
   "cell_type": "code",
   "execution_count": null,
   "id": "e6e26d16",
   "metadata": {},
   "outputs": [],
   "source": [
    "from sklearn.preprocessing import LabelEncoder\n",
    "\n",
    "le=LabelEncoder()\n",
    "\n",
    "df['tar_encoded']=le.fit_transform(df['tar'])\n",
    "\n",
    "pd.get_dummies(df['color'],prefix='color')"
   ]
  },
  {
   "cell_type": "code",
   "execution_count": 20,
   "id": "18c1ada1",
   "metadata": {},
   "outputs": [
    {
     "ename": "ModuleNotFoundError",
     "evalue": "No module named 'category_encoders'",
     "output_type": "error",
     "traceback": [
      "\u001b[1;31m---------------------------------------------------------------------------\u001b[0m",
      "\u001b[1;31mModuleNotFoundError\u001b[0m                       Traceback (most recent call last)",
      "Cell \u001b[1;32mIn[20], line 1\u001b[0m\n\u001b[1;32m----> 1\u001b[0m \u001b[38;5;28;01mimport\u001b[39;00m \u001b[38;5;21;01mcategory_encoders\u001b[39;00m \u001b[38;5;28;01mas\u001b[39;00m \u001b[38;5;21;01mce\u001b[39;00m\n\u001b[0;32m      2\u001b[0m encoder\u001b[38;5;241m=\u001b[39mce\u001b[38;5;241m.\u001b[39mTargetEncoder()\n\u001b[0;32m      3\u001b[0m df[\u001b[38;5;124m'\u001b[39m\u001b[38;5;124mgender_target\u001b[39m\u001b[38;5;124m'\u001b[39m]\u001b[38;5;241m=\u001b[39mencoder\u001b[38;5;241m.\u001b[39mfit_transform(df[\u001b[38;5;124m'\u001b[39m\u001b[38;5;124mgender\u001b[39m\u001b[38;5;124m'\u001b[39m],df[\u001b[38;5;124m'\u001b[39m\u001b[38;5;124mtarget\u001b[39m\u001b[38;5;124m'\u001b[39m])\n",
      "\u001b[1;31mModuleNotFoundError\u001b[0m: No module named 'category_encoders'"
     ]
    }
   ],
   "source": [
    "import category_encoders as ce\n",
    "encoder=ce.TargetEncoder()\n",
    "df['gender_target']=encoder.fit_transform(df['gender'],df['target'])"
   ]
  },
  {
   "cell_type": "code",
   "execution_count": null,
   "id": "1b5a1fad",
   "metadata": {},
   "outputs": [],
   "source": [
    "freq_map=df['city'].value_counts().to_dict()\n",
    "df['city_encoded']=df['city'].map(freq_map)"
   ]
  },
  {
   "cell_type": "code",
   "execution_count": null,
   "id": "79ef186f",
   "metadata": {},
   "outputs": [],
   "source": [
    "from sklearn.preprocessing import StandardScaler,MinMaxScaler,RobustScaler,PowerTransformer\n",
    "scaler=StandardScaler()\n",
    "df_scaled=scaler.fit_transform(df)\n",
    "\n",
    "\n",
    "M=MinMaxScaler()\n",
    "df_scaled=M.fit_transform(df)\n",
    "\n",
    "\n",
    "RB=RobustScaler()\n",
    "df_scaled=RB.fit_transform(df)\n",
    "\n",
    "pt=PowerTransformer(method='yeo-jhonson')\n",
    "df_scaled=pt.fit_transform(df)"
   ]
  },
  {
   "cell_type": "code",
   "execution_count": null,
   "id": "5f2d0db1",
   "metadata": {},
   "outputs": [],
   "source": [
    "from scipy.stats import zscore\n",
    "\n",
    "z=zscore(df['target'])\n",
    "df[z>3]\n",
    "\n",
    "\n",
    "\n",
    "Q1 = df['feature'].quantile(0.25)\n",
    "Q3 = df['feature'].quantile(0.75)\n",
    "IQR = Q3 - Q1\n",
    "mask = (df['feature'] < Q1 - 1.5*IQR) | (df['feature'] > Q3 + 1.5*IQR)\n",
    "df[mask]  # outliers\n",
    "\n",
    "\n",
    "\n"
   ]
  },
  {
   "cell_type": "code",
   "execution_count": null,
   "id": "55331f27",
   "metadata": {},
   "outputs": [],
   "source": [
    "from scipy.stats.mstats import winsorize\n",
    "\n",
    "df['feature_wins']=winsorize(df['feature'],,limits=[0.05,0.05])\n",
    "\n",
    "\n",
    "df['feature_wins']=df['feature'].clip(lower=lower_bond,upper=upper_bond)"
   ]
  },
  {
   "cell_type": "code",
   "execution_count": null,
   "id": "e9deb834",
   "metadata": {},
   "outputs": [],
   "source": [
    "text=text.lower()\n",
    "text=text.translate(str.maketrans('','',string.punctuation))\n",
    "\n",
    "\n",
    "\n",
    "import nltk\n",
    "nltk.download('stopwords')\n",
    "\n",
    "from nltk.corpus import stopwords\n",
    "stop_words=set(stopwords.words('english'))\n",
    "\n",
    "words=[word for word in text.split() if word  not in stop_words]\n",
    "\n",
    "\n",
    "python\n",
    "CopyEdit\n",
    "from nltk.stem import PorterStemmer\n",
    "stemmer = PorterStemmer()\n",
    "stemmed_words = [stemmer.stem(word) for word in words]\n",
    "\n"
   ]
  },
  {
   "cell_type": "code",
   "execution_count": null,
   "id": "b7e24356",
   "metadata": {},
   "outputs": [],
   "source": [
    "import pandas as pd\n",
    "\n",
    "df['date']=pd.to_datetime(df['date'])\n",
    "\n",
    "df['date'] = pd.to_datetime(df['date'], format='%d-%m-%Y')\n",
    "\n",
    "df['date'] = pd.to_datetime(df['date'], errors='coerce') # handle invalid dates they become NAT\n",
    "\n",
    "\n",
    "df['date']=df['date'].dt.tz_localize('UTC')\n",
    "\n",
    "\n",
    "df['date']=df['date'].dt.tz_convert('ASia/Kolkata')\n",
    "\n",
    "\n",
    "df['year'] = df['date'].dt.year\n",
    "df['month'] = df['date'].dt.month\n",
    "df['weekday'] = df['date'].dt.day_name()\n",
    "df['is_weekend'] = df['date'].dt.weekday >= 5\n",
    "\n",
    "\n"
   ]
  },
  {
   "cell_type": "code",
   "execution_count": null,
   "id": "d90fc14e",
   "metadata": {},
   "outputs": [],
   "source": [
    "from sklearn.preprocessing import PolynomialFeatures\n",
    "\n",
    "poly=PolynomialFeatures(degree=2,interaction_only=False,include_bias=False)\n",
    "new_features=poly.fit_transform(df[['x1','x2']])"
   ]
  },
  {
   "cell_type": "code",
   "execution_count": 3,
   "id": "11f81c51",
   "metadata": {},
   "outputs": [
    {
     "name": "stdout",
     "output_type": "stream",
     "text": [
      "   Income    Income_Quartile\n",
      "0    1000  (999.999, 1975.0]\n",
      "1    2300   (1975.0, 2650.0]\n",
      "2    3000   (2650.0, 3375.0]\n",
      "3    4500   (3375.0, 4500.0]\n"
     ]
    }
   ],
   "source": [
    "import pandas as pd\n",
    "\n",
    "\n",
    "df=pd.DataFrame({'Income':[1000,2300,3000,4500]})\n",
    "df['Income_Quartile']=pd.qcut(df['Income'],q=4)\n",
    "print(df)"
   ]
  },
  {
   "cell_type": "code",
   "execution_count": 5,
   "id": "ef314894",
   "metadata": {},
   "outputs": [
    {
     "name": "stdout",
     "output_type": "stream",
     "text": [
      "   Age AgeGroup\n",
      "0    5    Child\n",
      "1   16     Teen\n",
      "2   25    Adult\n",
      "3   40    Adult\n",
      "4   70   Senior\n"
     ]
    }
   ],
   "source": [
    "df = pd.DataFrame({'Age': [5, 16, 25, 40, 70]})\n",
    "\n",
    "bins = [0, 12, 18, 60, 100]\n",
    "labels = ['Child', 'Teen', 'Adult', 'Senior']\n",
    "\n",
    "df['AgeGroup'] = pd.cut(df['Age'], bins=bins, labels=labels)\n",
    "print(df)"
   ]
  },
  {
   "cell_type": "code",
   "execution_count": null,
   "id": "336d6d21",
   "metadata": {},
   "outputs": [],
   "source": [
    "from sklearn.feature_selection import SelectKBest,chi2\n",
    "\n",
    "X_new=SelectKBest(chi2,k=2).fit_transform(X,y)\n",
    "\n"
   ]
  },
  {
   "cell_type": "code",
   "execution_count": null,
   "id": "bca6d472",
   "metadata": {},
   "outputs": [],
   "source": [
    "from sklearn.feature_selection import RFE\n",
    "from sklearn.linear_model import LogisticRegression\n",
    "\n",
    "model=LogisticRegression()\n",
    "rfe=RFE(model,n_features_to_select=3)\n",
    "X_rfe=rfe.fit_transform(X,y)"
   ]
  },
  {
   "cell_type": "code",
   "execution_count": null,
   "id": "d5df9c11",
   "metadata": {},
   "outputs": [],
   "source": [
    "from sklearn.linear_model import Lasso\n",
    "\n",
    "lasso=Lasso(alpha=0.1)\n",
    "lasso.fit(X,y)\n",
    "selected_features=X.columns(lasso.coef_!=0)"
   ]
  },
  {
   "cell_type": "code",
   "execution_count": null,
   "id": "482a7977",
   "metadata": {},
   "outputs": [],
   "source": [
    "from sklearn.ensemble import RandomForestClassifier\n",
    "\n",
    "rf=RandomForestClassifier()\n",
    "rf.fit(X,y)\n",
    "\n",
    "importance=rf.feature_importances_\n",
    "\n",
    "imporrtant_feature=X.columns[importance>0.1]\n",
    "    "
   ]
  },
  {
   "cell_type": "code",
   "execution_count": null,
   "id": "bcacc80c",
   "metadata": {},
   "outputs": [],
   "source": []
  }
 ],
 "metadata": {
  "kernelspec": {
   "display_name": "exassaro",
   "language": "python",
   "name": "python3"
  },
  "language_info": {
   "codemirror_mode": {
    "name": "ipython",
    "version": 3
   },
   "file_extension": ".py",
   "mimetype": "text/x-python",
   "name": "python",
   "nbconvert_exporter": "python",
   "pygments_lexer": "ipython3",
   "version": "3.12.9"
  }
 },
 "nbformat": 4,
 "nbformat_minor": 5
}
