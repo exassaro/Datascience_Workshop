{
 "cells": [
  {
   "cell_type": "markdown",
   "id": "f9db562b",
   "metadata": {},
   "source": [
    "Steps to Follow:\n",
    "\n",
    "1. Dataset: Use a dataset from:\n",
    "\n",
    "    seaborn (e.g., tips, diamonds, or titanic)\n",
    "    OR download a CSV from [Kaggle Datasets](https://www.kaggle.com/datasets) or [UCI ML Repository](https://archive.ics.uci.edu/)\n",
    "\n",
    "2. Load and Explore:\n",
    "\n",
    "    Use pandas and matplotlib or seaborn\n",
    "    Check for:\n",
    "\n",
    "      Missing values\n",
    "      Data types\n",
    "      Basic stats\n",
    "\n",
    "3. Visual EDA:\n",
    "\n",
    "    Create 2 meaningful visualizations (e.g., distribution, correlation heatmap, boxplot by category)\n",
    "\n",
    "4. Feature Engineering:\n",
    "\n",
    "    Create 2 new features (Examples):\n",
    "\n",
    "      From date/time (e.g., extract weekday from datetime)\n",
    "      Binned version of continuous variable (e.g., bin ages into categories)\n",
    "      Combination feature (e.g., total\\_bill per person in tips dataset)\n",
    "\n",
    "5. Save Your Output:\n",
    "\n",
    "    Export the modified DataFrame to a new .csv file (optional but good practice)"
   ]
  },
  {
   "cell_type": "code",
   "execution_count": 4,
   "id": "fcf32006",
   "metadata": {},
   "outputs": [
    {
     "name": "stdout",
     "output_type": "stream",
     "text": [
      "survived         0\n",
      "pclass           0\n",
      "sex              0\n",
      "age            177\n",
      "sibsp            0\n",
      "parch            0\n",
      "fare             0\n",
      "embarked         2\n",
      "class            0\n",
      "who              0\n",
      "adult_male       0\n",
      "deck           688\n",
      "embark_town      2\n",
      "alive            0\n",
      "alone            0\n",
      "dtype: int64\n",
      "         survived      pclass         age       sibsp       parch        fare\n",
      "count  891.000000  891.000000  714.000000  891.000000  891.000000  891.000000\n",
      "mean     0.383838    2.308642   29.699118    0.523008    0.381594   32.204208\n",
      "std      0.486592    0.836071   14.526497    1.102743    0.806057   49.693429\n",
      "min      0.000000    1.000000    0.420000    0.000000    0.000000    0.000000\n",
      "25%      0.000000    2.000000   20.125000    0.000000    0.000000    7.910400\n",
      "50%      0.000000    3.000000   28.000000    0.000000    0.000000   14.454200\n",
      "75%      1.000000    3.000000   38.000000    1.000000    0.000000   31.000000\n",
      "max      1.000000    3.000000   80.000000    8.000000    6.000000  512.329200\n"
     ]
    }
   ],
   "source": [
    "import seaborn as sns\n",
    "import pandas as pd\n",
    "import numpy as np\n",
    "\n",
    "df=sns.load_dataset(\"Titanic\")\n",
    "Titanic=pd.DataFrame(df)\n",
    "print(Titanic.isnull().sum())\n",
    "print(Titanic.describe())\n"
   ]
  },
  {
   "cell_type": "markdown",
   "id": "f84aba4a",
   "metadata": {},
   "source": [
    "1. Generate Synthetic Data (NumPy)\n",
    "\t•\tCreate an array of 10 student names.\n",
    "\t•\tGenerate random marks for 3 subjects (Math, Science, English) using np.random.randint().\n",
    "\n",
    "2. Create a DataFrame (Pandas)\n",
    "\t•\tConvert the data into a DataFrame.\n",
    "\t•\tAdd a Total and Average column.\n",
    "\t•\tSort the DataFrame by Total in descending order.\n",
    "\n",
    "3. Compute Basic Stats\n",
    "\t•\tDisplay the student with the highest average.\n",
    "\t•\tCount how many students scored above 75 in Math.\n",
    "\n",
    "4. Visualization (Matplotlib)\n",
    "\t•\tCreate a bar chart showing total marks for each student.\n",
    "\t•\tCreate a histogram of Science scores."
   ]
  },
  {
   "cell_type": "code",
   "execution_count": 18,
   "id": "c315d5fb",
   "metadata": {},
   "outputs": [
    {
     "name": "stdout",
     "output_type": "stream",
     "text": [
      "['abay' 'salu' 'shahin' 'arun' 'mejo' 'rahul' 'sandeep' 'rohan' 'unish'\n",
      " 'ron']\n",
      "     Names  maths  english  science  Total  average\n",
      "0     abay     15       79       64     79     96.7\n",
      "1     salu     15       73       58     73     96.7\n",
      "2   shahin     29      116       87    116     96.7\n",
      "3     arun     83      129       46    129     96.7\n",
      "4     mejo     31       72       41     72     96.7\n",
      "5    rahul     61       93       32     93     96.7\n",
      "6  sandeep     42      100       58    100     96.7\n",
      "7    rohan     24       56       32     56     96.7\n",
      "8    unish     61      139       78    139     96.7\n",
      "9      ron     95      110       15    110     96.7\n"
     ]
    },
    {
     "ename": "KeyError",
     "evalue": "\"None of [Index([15, 15, 29, 83, 31, 61, 42, 24, 61, 95], dtype='int32')] are in the [columns]\"",
     "output_type": "error",
     "traceback": [
      "\u001b[1;31m---------------------------------------------------------------------------\u001b[0m",
      "\u001b[1;31mKeyError\u001b[0m                                  Traceback (most recent call last)",
      "Cell \u001b[1;32mIn[18], line 20\u001b[0m\n\u001b[0;32m     18\u001b[0m df\u001b[38;5;241m=\u001b[39mpd\u001b[38;5;241m.\u001b[39mDataFrame(data)\n\u001b[0;32m     19\u001b[0m \u001b[38;5;28mprint\u001b[39m(df)\n\u001b[1;32m---> 20\u001b[0m \u001b[38;5;28mprint\u001b[39m(\u001b[43mdf\u001b[49m\u001b[43m[\u001b[49m\u001b[43mmaths\u001b[49m\u001b[43m]\u001b[49m\u001b[38;5;241m>\u001b[39m\u001b[38;5;241m75\u001b[39m)\n",
      "File \u001b[1;32mc:\\ProgramData\\anaconda3\\envs\\exassaro\\Lib\\site-packages\\pandas\\core\\frame.py:4108\u001b[0m, in \u001b[0;36mDataFrame.__getitem__\u001b[1;34m(self, key)\u001b[0m\n\u001b[0;32m   4106\u001b[0m     \u001b[38;5;28;01mif\u001b[39;00m is_iterator(key):\n\u001b[0;32m   4107\u001b[0m         key \u001b[38;5;241m=\u001b[39m \u001b[38;5;28mlist\u001b[39m(key)\n\u001b[1;32m-> 4108\u001b[0m     indexer \u001b[38;5;241m=\u001b[39m \u001b[38;5;28;43mself\u001b[39;49m\u001b[38;5;241;43m.\u001b[39;49m\u001b[43mcolumns\u001b[49m\u001b[38;5;241;43m.\u001b[39;49m\u001b[43m_get_indexer_strict\u001b[49m\u001b[43m(\u001b[49m\u001b[43mkey\u001b[49m\u001b[43m,\u001b[49m\u001b[43m \u001b[49m\u001b[38;5;124;43m\"\u001b[39;49m\u001b[38;5;124;43mcolumns\u001b[39;49m\u001b[38;5;124;43m\"\u001b[39;49m\u001b[43m)\u001b[49m[\u001b[38;5;241m1\u001b[39m]\n\u001b[0;32m   4110\u001b[0m \u001b[38;5;66;03m# take() does not accept boolean indexers\u001b[39;00m\n\u001b[0;32m   4111\u001b[0m \u001b[38;5;28;01mif\u001b[39;00m \u001b[38;5;28mgetattr\u001b[39m(indexer, \u001b[38;5;124m\"\u001b[39m\u001b[38;5;124mdtype\u001b[39m\u001b[38;5;124m\"\u001b[39m, \u001b[38;5;28;01mNone\u001b[39;00m) \u001b[38;5;241m==\u001b[39m \u001b[38;5;28mbool\u001b[39m:\n",
      "File \u001b[1;32mc:\\ProgramData\\anaconda3\\envs\\exassaro\\Lib\\site-packages\\pandas\\core\\indexes\\base.py:6200\u001b[0m, in \u001b[0;36mIndex._get_indexer_strict\u001b[1;34m(self, key, axis_name)\u001b[0m\n\u001b[0;32m   6197\u001b[0m \u001b[38;5;28;01melse\u001b[39;00m:\n\u001b[0;32m   6198\u001b[0m     keyarr, indexer, new_indexer \u001b[38;5;241m=\u001b[39m \u001b[38;5;28mself\u001b[39m\u001b[38;5;241m.\u001b[39m_reindex_non_unique(keyarr)\n\u001b[1;32m-> 6200\u001b[0m \u001b[38;5;28;43mself\u001b[39;49m\u001b[38;5;241;43m.\u001b[39;49m\u001b[43m_raise_if_missing\u001b[49m\u001b[43m(\u001b[49m\u001b[43mkeyarr\u001b[49m\u001b[43m,\u001b[49m\u001b[43m \u001b[49m\u001b[43mindexer\u001b[49m\u001b[43m,\u001b[49m\u001b[43m \u001b[49m\u001b[43maxis_name\u001b[49m\u001b[43m)\u001b[49m\n\u001b[0;32m   6202\u001b[0m keyarr \u001b[38;5;241m=\u001b[39m \u001b[38;5;28mself\u001b[39m\u001b[38;5;241m.\u001b[39mtake(indexer)\n\u001b[0;32m   6203\u001b[0m \u001b[38;5;28;01mif\u001b[39;00m \u001b[38;5;28misinstance\u001b[39m(key, Index):\n\u001b[0;32m   6204\u001b[0m     \u001b[38;5;66;03m# GH 42790 - Preserve name from an Index\u001b[39;00m\n",
      "File \u001b[1;32mc:\\ProgramData\\anaconda3\\envs\\exassaro\\Lib\\site-packages\\pandas\\core\\indexes\\base.py:6249\u001b[0m, in \u001b[0;36mIndex._raise_if_missing\u001b[1;34m(self, key, indexer, axis_name)\u001b[0m\n\u001b[0;32m   6247\u001b[0m \u001b[38;5;28;01mif\u001b[39;00m nmissing:\n\u001b[0;32m   6248\u001b[0m     \u001b[38;5;28;01mif\u001b[39;00m nmissing \u001b[38;5;241m==\u001b[39m \u001b[38;5;28mlen\u001b[39m(indexer):\n\u001b[1;32m-> 6249\u001b[0m         \u001b[38;5;28;01mraise\u001b[39;00m \u001b[38;5;167;01mKeyError\u001b[39;00m(\u001b[38;5;124mf\u001b[39m\u001b[38;5;124m\"\u001b[39m\u001b[38;5;124mNone of [\u001b[39m\u001b[38;5;132;01m{\u001b[39;00mkey\u001b[38;5;132;01m}\u001b[39;00m\u001b[38;5;124m] are in the [\u001b[39m\u001b[38;5;132;01m{\u001b[39;00maxis_name\u001b[38;5;132;01m}\u001b[39;00m\u001b[38;5;124m]\u001b[39m\u001b[38;5;124m\"\u001b[39m)\n\u001b[0;32m   6251\u001b[0m     not_found \u001b[38;5;241m=\u001b[39m \u001b[38;5;28mlist\u001b[39m(ensure_index(key)[missing_mask\u001b[38;5;241m.\u001b[39mnonzero()[\u001b[38;5;241m0\u001b[39m]]\u001b[38;5;241m.\u001b[39munique())\n\u001b[0;32m   6252\u001b[0m     \u001b[38;5;28;01mraise\u001b[39;00m \u001b[38;5;167;01mKeyError\u001b[39;00m(\u001b[38;5;124mf\u001b[39m\u001b[38;5;124m\"\u001b[39m\u001b[38;5;132;01m{\u001b[39;00mnot_found\u001b[38;5;132;01m}\u001b[39;00m\u001b[38;5;124m not in index\u001b[39m\u001b[38;5;124m\"\u001b[39m)\n",
      "\u001b[1;31mKeyError\u001b[0m: \"None of [Index([15, 15, 29, 83, 31, 61, 42, 24, 61, 95], dtype='int32')] are in the [columns]\""
     ]
    }
   ],
   "source": [
    "import pandas as pd\n",
    "import numpy as np\n",
    "x=['abay','salu','shahin','arun','mejo','rahul','sandeep','rohan','unish','ron']\n",
    "print(np.array(x))\n",
    "maths=np.random.randint(10,100,size=10)\n",
    "science=np.random.randint(10,100,size=10)\n",
    "english=np.random.randint(10,100,size=10)\n",
    "Total=np.add(maths,science,english)\n",
    "data={\n",
    "    'Names':np.array(x),\n",
    "    'maths':maths,\n",
    "    'english':english,\n",
    "    'science':science,\n",
    "    'Total':Total,\n",
    "    'average':np.average(Total)\n",
    "}\n",
    "\n",
    "df=pd.DataFrame(data)\n",
    "print(df)\n",
    "print(df[maths]>75)\n",
    "\n",
    "\n"
   ]
  },
  {
   "cell_type": "markdown",
   "id": "8983de23",
   "metadata": {},
   "source": []
  },
  {
   "cell_type": "code",
   "execution_count": null,
   "id": "3ce51967",
   "metadata": {},
   "outputs": [],
   "source": []
  }
 ],
 "metadata": {
  "kernelspec": {
   "display_name": "exassaro",
   "language": "python",
   "name": "python3"
  },
  "language_info": {
   "codemirror_mode": {
    "name": "ipython",
    "version": 3
   },
   "file_extension": ".py",
   "mimetype": "text/x-python",
   "name": "python",
   "nbconvert_exporter": "python",
   "pygments_lexer": "ipython3",
   "version": "3.12.9"
  }
 },
 "nbformat": 4,
 "nbformat_minor": 5
}
